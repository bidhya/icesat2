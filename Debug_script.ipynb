{
 "cells": [
  {
   "cell_type": "code",
   "execution_count": 1,
   "id": "2126bf75-5124-4da2-ad2a-20bed499735b",
   "metadata": {},
   "outputs": [],
   "source": [
    "import math\n",
    "import os, sys\n",
    "import shutil\n",
    "import time\n",
    "from datetime import timedelta\n",
    "\n",
    "import numpy as np\n",
    "import pandas as pd\n",
    "\n",
    "import geopandas as gpd\n",
    "from shapely.geometry import Point #, Polygon, mapping\n",
    "# from shapely.geometry.polygon import orient\n",
    "from statistics import mean\n",
    "import h5py\n",
    "# # To read KML files with geopandas, we will need to enable KML support in fiona (disabled by default)\n",
    "# fiona.drvsupport.supported_drivers['LIBKML'] = 'rw'\n",
    "import json\n",
    "import zipfile\n",
    "import io\n",
    "\n",
    "import requests\n",
    "\n",
    "from xml.etree import ElementTree as ET\n",
    "import logging\n",
    "# from rema_dem import get_rema_strip_polygon\n",
    "from create_dem_metadata import get_strip_polygon\n",
    "\n",
    "# import warnings  # March 30, 2022  \n",
    "# warnings.simplefilter(action='ignore', category=FutureWarning) # FutureWarning: pandas.Int64Index is deprecated and will be removed from pandas in a future version. Use pandas.Index with the appropriate dtype instead.\n",
    "# warnings.simplefilter(action='ignore', category=UserWarning) # UserWarning: Column names longer than 10 characters will be truncated when saved to ESRI Shapefile.\n",
    "# # One more: ShapelyDeprecationWarning: The array interface is deprecated and will no longer work in Shapely 2.0. Convert the '.coords' to a numpy array instead.\n",
    "\n",
    "# Some global variables and definition [must choose one]\n",
    "short_name = 'ATL06'  # 'ATL08' 'ATL06' 'ATL03'\n"
   ]
  },
  {
   "cell_type": "raw",
   "id": "07ce4edc-4064-4204-9276-8141d596c6dc",
   "metadata": {},
   "source": [
    "import argparse\n",
    "\n",
    "parser = argparse.ArgumentParser(description='Download Icesat2 Data for DEM strips.')\n",
    "parser.add_argument('region', help='region folder name', type=str)\n",
    "parser.add_argument('dem_type', help='REMA ArcticDEM EarthDEM', type=str)\n",
    "# parser.add_argument('--short_name', help='Icesat2 product shortname', type=str, default='ATL06')\n",
    "\n",
    "args = parser.parse_args()\n",
    "# dem_region = args.dem_region  # rema or arcticdem #antarctica or arctic\n",
    "# start_date = args.start_date  # '2020-06-01'  # Same for all latitudes\n",
    "# short_name = args.short_name  # ATL06 or ATL08 "
   ]
  },
  {
   "cell_type": "code",
   "execution_count": 2,
   "id": "a8393b4b-f91b-4261-86c4-e3d1b5de487f",
   "metadata": {},
   "outputs": [],
   "source": [
    "region = 'arcticdem_02_greenland_southeast' #args.region  # sys.argv[1] #pass region from outside\n",
    "dem_type = 'ArcticDEM' #args.dem_type # dem_type = ['REMA', 'ArcticDEM', 'EarthDEM']\n",
    "\n",
    "logging.basicConfig(filename=f'logs_{region}.log', level=logging.INFO, format='%(asctime)s:%(levelname)s:%(message)s')\n",
    "# Location of where DEMs are staged   \n",
    "# region = arcticdem_05_greenland_northeast arcticdem_06_greenland_northwest arcticdem_05_greenland_northeast arcticdem_04_greenland_central arcticdem_05_greenland_northeast  \n",
    "# region = rema_01_subantarctic_islands region_03_peninsula_south hma_2019jun26 region_20_ross_shelf\n",
    "if dem_type == 'ArcticDEM':\n",
    "    dir_prefix = '/fs/byo/howat-data5'\n",
    "elif dem_type == 'REMA':\n",
    "    dir_prefix = '/fs/byo/howat-data4' # /fs/project/howat.4 : OLD\n",
    "else:\n",
    "    print('Need either ArcticDEM or REMA as input for demtype, EXITING script')\n",
    "    sys.exit(0)\n",
    "# strip_version = ['v4', 'unf', 'v4.1']\n",
    "# strip_version = strip_version[0] #choose based on how folder names look"
   ]
  },
  {
   "cell_type": "code",
   "execution_count": 3,
   "id": "4ecf961b-843c-41fc-b2d0-eaf232a1a196",
   "metadata": {},
   "outputs": [
    {
     "data": {
      "text/plain": [
       "'/fs/byo/howat-data5'"
      ]
     },
     "execution_count": 3,
     "metadata": {},
     "output_type": "execute_result"
    }
   ],
   "source": [
    "dir_prefix"
   ]
  },
  {
   "cell_type": "code",
   "execution_count": 4,
   "id": "2ab32ad5-673a-4e2b-9d8d-ee59e2bb73e5",
   "metadata": {},
   "outputs": [],
   "source": [
    "strips_folder = f'{dir_prefix}/{dem_type}/{region}/strips_v4.1/2m' #f'{dir_prefix}/EarthDEM/{region}/strips_unf/2m' #for Alaska but not tried yet as ATL06 does not exist for this region\n",
    "strips = os.listdir(f'{strips_folder}')\n",
    "strips = [f for f in strips if not f.endswith('.json')]  # Mar 30, 2022 (for new version of DEMs)\n",
    "\n",
    "logging.info(f'Total Strips for {region}= {len(strips)}')"
   ]
  },
  {
   "cell_type": "code",
   "execution_count": 8,
   "id": "9b8e0526-b16c-4fcf-9d47-3a5bc12a2445",
   "metadata": {},
   "outputs": [
    {
     "data": {
      "text/plain": [
       "['W1W1_20181021_102001007C5E4500_102001007C6AE600_2m_lsf_v040002',\n",
       " 'W1W1_20181025_1020010078394500_102001007B169300_2m_lsf_v030403',\n",
       " 'W1W1_20190213_102001007F94EC00_102001008200A500_2m_lsf_v040002',\n",
       " 'W1W1_20190213_102001007F94EC00_1020010082D88000_2m_lsf_v040002',\n",
       " 'W1W1_20190213_10200100802C5000_102001008200A500_2m_lsf_v040002',\n",
       " 'W1W1_20190213_10200100802C5000_1020010083AAFA00_2m_lsf_v040002',\n",
       " 'W1W1_20190213_1020010083AAFA00_10200100848CC900_2m_lsf_v030403',\n",
       " 'W1W1_20190403_102001007E600700_1020010083207800_2m_lsf_v040002',\n",
       " 'W1W1_20190403_1020010081627F00_1020010083207800_2m_lsf_v030403',\n",
       " 'W1W1_20190403_1020010083207800_1020010085192F00_2m_lsf_v030403']"
      ]
     },
     "execution_count": 8,
     "metadata": {},
     "output_type": "execute_result"
    }
   ],
   "source": [
    "strips[:10]"
   ]
  },
  {
   "cell_type": "code",
   "execution_count": 7,
   "id": "3c6c24ea-8cf4-4579-9d31-7eef65d4d4e8",
   "metadata": {},
   "outputs": [],
   "source": [
    "# Set the icesat2_path : where files will be downloaded and processed (created inside code)\n",
    "base_icesat2_path = f'/fs/project/howat.4/icesat2/{dem_type}/{region}_{short_name}'\n",
    "# base_icesat2_path = f'/fs/project/howat.4/icesat2/prototyping/temp/{dem_type}/{region}_{short_name}'\n",
    "\n",
    "# Get only WV3 files for now\n",
    "cutoff_dt = pd.to_datetime('2018-10-16') #This is the date when ICESAT started collecting data\n",
    "strips = [strip for strip in strips if pd.to_datetime(strip.split('_')[1])>=cutoff_dt]"
   ]
  },
  {
   "cell_type": "code",
   "execution_count": 9,
   "id": "6d1514d9-2b4d-43f5-acbc-f908f005cc0d",
   "metadata": {},
   "outputs": [],
   "source": [
    "# Aside: next two lines for testing only (March 31, 2022)\n",
    "strips = [strip for strip in strips if strip.startswith('W3')]\n",
    "strips = strips[20:120]\n",
    "\n",
    "logging.info(f'Strips after 2018-10-16 for {region}= {len(strips)}')\n",
    "# To procwss just one or multiple named strips uncomment this line below\n",
    "#strips = ['W1W1_20190410_1020010081378B00_10200100850FB100_2m_lsf']\n",
    "strips"
   ]
  },
  {
   "cell_type": "code",
   "execution_count": 11,
   "id": "cae94ef4-a88f-4d62-8070-2a30d031980a",
   "metadata": {},
   "outputs": [
    {
     "data": {
      "text/plain": [
       "'W3W3_20190602_104001004C0F9500_104001004E612800_2m_lsf_v040201'"
      ]
     },
     "execution_count": 11,
     "metadata": {},
     "output_type": "execute_result"
    }
   ],
   "source": [
    "strip = strips[1]\n",
    "strip"
   ]
  },
  {
   "cell_type": "code",
   "execution_count": 12,
   "id": "c930ac9b-43c4-43a8-b27d-674fd5a13945",
   "metadata": {},
   "outputs": [
    {
     "data": {
      "text/plain": [
       "'/fs/byo/howat-data5/ArcticDEM/arcticdem_02_greenland_southeast/strips_v4.1/2m/W3W3_20190602_104001004C0F9500_104001004E612800_2m_lsf_v040201'"
      ]
     },
     "execution_count": 12,
     "metadata": {},
     "output_type": "execute_result"
    }
   ],
   "source": [
    "f'{strips_folder}/{strip}'"
   ]
  },
  {
   "cell_type": "code",
   "execution_count": 14,
   "id": "a3a33e12-7796-4130-bb4d-fe8e9576998c",
   "metadata": {},
   "outputs": [],
   "source": [
    "download_error = []\n",
    "hdf_error = []\n",
    "\n",
    "strip_index = 0\n",
    "strip_order_dict = {} #To save order numbers for each Tile\n",
    "# for strip in strips:\n",
    "strip = strips[1]\n",
    "logging.info('==============================================================================================================')\n",
    "strip_index += 1 # just to keep count of strips\n",
    "logging.info(f'{strip_index}/{len(strips)}   {region}:: {strip}')\n",
    "strip_folder = f'{strips_folder}/{strip}'\n",
    "icesat2_path = f'{base_icesat2_path}/{strip}'\n",
    "if os.path.exists(icesat2_path):\n",
    "    logging.info(f'Skipping Download and Processing {region}: {strip}')\n",
    "    # TODO: Also check if downloads subfolder exit: this implies \n",
    "    print('yes')"
   ]
  },
  {
   "cell_type": "code",
   "execution_count": 15,
   "id": "ee00d5bf-862b-4e15-b7a1-67d36f65d409",
   "metadata": {},
   "outputs": [],
   "source": [
    "# try:\n",
    "# Download icesat2 data for a REMA strip using API\n",
    "# Remove trailing _v0xxxx for new ArcticDEM files\n",
    "#strip = strip.split('_v0')[0]\n",
    "# In the newer version of ArcticDEM for Greenland, there are some missing strip even though the folder exist\n",
    "if len(os.listdir(f'{strip_folder}'))<1:\n",
    "    # Check if no DEM exist; otherwise the script will crash when downloading\n",
    "    print(f'MISSING STRIP: {strip_folder}')\n",
    "    logging.error(f'MISSING STRIP: {strip_folder}')\n",
    "    print('yes')"
   ]
  },
  {
   "cell_type": "code",
   "execution_count": 16,
   "id": "bf95cd50-0892-4a3d-87a9-2ab04765b082",
   "metadata": {},
   "outputs": [],
   "source": [
    "from icesat2_download import download_process_icesat2"
   ]
  },
  {
   "cell_type": "code",
   "execution_count": 23,
   "id": "6ea7c135-1d54-4d57-ba9a-7ea881dcce20",
   "metadata": {},
   "outputs": [
    {
     "data": {
      "text/plain": [
       "['SETSM_s2s041_W3W3_20190602_104001004C0F9500_104001004E612800_2m_lsf_seg1_ortho2.tif',\n",
       " 'SETSM_s2s041_W3W3_20190602_104001004C0F9500_104001004E612800_2m_lsf_seg1_ortho.tif',\n",
       " 'SETSM_s2s041_W3W3_20190602_104001004C0F9500_104001004E612800_2m_lsf_seg1_dem.tif',\n",
       " 'SETSM_s2s041_W3W3_20190602_104001004C0F9500_104001004E612800_2m_lsf_seg2_ortho2.tif',\n",
       " 'SETSM_s2s041_W3W3_20190602_104001004C0F9500_104001004E612800_2m_lsf_seg2_ortho.tif',\n",
       " 'SETSM_s2s041_W3W3_20190602_104001004C0F9500_104001004E612800_2m_lsf_seg2_dem.tif',\n",
       " 'SETSM_s2s041_W3W3_20190602_104001004C0F9500_104001004E612800_2m_lsf_seg1_dem_10m.tif',\n",
       " 'SETSM_s2s041_W3W3_20190602_104001004C0F9500_104001004E612800_2m_lsf_seg1_dem_10m_shade.tif',\n",
       " 'SETSM_s2s041_W3W3_20190602_104001004C0F9500_104001004E612800_2m_lsf_seg1_matchtag.tif',\n",
       " 'SETSM_s2s041_W3W3_20190602_104001004C0F9500_104001004E612800_2m_lsf_seg1_dem_10m_shade_masked.tif',\n",
       " 'SETSM_s2s041_W3W3_20190602_104001004C0F9500_104001004E612800_2m_lsf_seg1_bitmask.tif',\n",
       " 'SETSM_s2s041_W3W3_20190602_104001004C0F9500_104001004E612800_2m_lsf_seg2_dem_10m.tif',\n",
       " 'SETSM_s2s041_W3W3_20190602_104001004C0F9500_104001004E612800_2m_lsf_seg2_dem_10m_shade_masked.tif',\n",
       " 'SETSM_s2s041_W3W3_20190602_104001004C0F9500_104001004E612800_2m_lsf_seg2_dem_10m_shade.tif',\n",
       " 'SETSM_s2s041_W3W3_20190602_104001004C0F9500_104001004E612800_2m_lsf_seg2_bitmask.tif',\n",
       " 'SETSM_s2s041_W3W3_20190602_104001004C0F9500_104001004E612800_2m_lsf_seg2_matchtag.tif',\n",
       " 'SETSM_s2s041_W3W3_20190602_104001004C0F9500_104001004E612800_2m_lsf_seg1_meta.txt',\n",
       " 'SETSM_s2s041_W3W3_20190602_104001004C0F9500_104001004E612800_2m_lsf_seg2_meta.txt',\n",
       " 'W3W3_20190602_104001004C0F9500_104001004E612800_2m_lsf_v040201.fin',\n",
       " 'W3W3_20190602_104001004C0F9500_104001004E612800_2m_lsf_v040201_remerge.info']"
      ]
     },
     "execution_count": 23,
     "metadata": {},
     "output_type": "execute_result"
    }
   ],
   "source": [
    "os.listdir(strip_folder)"
   ]
  },
  {
   "cell_type": "code",
   "execution_count": 17,
   "id": "7ad27770-2f72-4b14-a420-0d226478cfde",
   "metadata": {},
   "outputs": [
    {
     "data": {
      "text/plain": [
       "'/fs/byo/howat-data5/ArcticDEM/arcticdem_02_greenland_southeast/strips_v4.1/2m/W3W3_20190602_104001004C0F9500_104001004E612800_2m_lsf_v040201'"
      ]
     },
     "execution_count": 17,
     "metadata": {},
     "output_type": "execute_result"
    }
   ],
   "source": []
  },
  {
   "cell_type": "code",
   "execution_count": 18,
   "id": "5a7b0de9-65a5-4674-a18a-124de63800b3",
   "metadata": {},
   "outputs": [
    {
     "data": {
      "text/plain": [
       "'W3W3_20190602_104001004C0F9500_104001004E612800_2m_lsf_v040201'"
      ]
     },
     "execution_count": 18,
     "metadata": {},
     "output_type": "execute_result"
    }
   ],
   "source": [
    "strip"
   ]
  },
  {
   "cell_type": "code",
   "execution_count": 22,
   "id": "403cd13a-bf69-47fe-b4ee-fef7ad71522f",
   "metadata": {},
   "outputs": [
    {
     "ename": "FileNotFoundError",
     "evalue": "[Errno 2] No such file or directory: '/fs/project/howat.4/icesat2/ArcticDEM/arcticdem_02_greenland_southeast_ATL06/W3W3_20190602_104001004C0F9500_104001004E612800_2m_lsf_v040201'",
     "output_type": "error",
     "traceback": [
      "\u001b[0;31m---------------------------------------------------------------------------\u001b[0m",
      "\u001b[0;31mFileNotFoundError\u001b[0m                         Traceback (most recent call last)",
      "Input \u001b[0;32mIn [22]\u001b[0m, in \u001b[0;36m<cell line: 1>\u001b[0;34m()\u001b[0m\n\u001b[0;32m----> 1\u001b[0m \u001b[43mos\u001b[49m\u001b[38;5;241;43m.\u001b[39;49m\u001b[43mlistdir\u001b[49m\u001b[43m(\u001b[49m\u001b[43micesat2_path\u001b[49m\u001b[43m)\u001b[49m\n",
      "\u001b[0;31mFileNotFoundError\u001b[0m: [Errno 2] No such file or directory: '/fs/project/howat.4/icesat2/ArcticDEM/arcticdem_02_greenland_southeast_ATL06/W3W3_20190602_104001004C0F9500_104001004E612800_2m_lsf_v040201'"
     ]
    }
   ],
   "source": [
    "os.listdir(icesat2_path)"
   ]
  },
  {
   "cell_type": "code",
   "execution_count": 20,
   "id": "1da46f3a-d3c6-457e-834c-e15a4b0b2fa7",
   "metadata": {},
   "outputs": [
    {
     "ename": "FileNotFoundError",
     "evalue": "[Errno 2] No such file or directory: '/fs/project/howat.4/icesat2/ArcticDEM/arcticdem_02_greenland_southeast_ATL06/W3W3_20190602_104001004C0F9500_104001004E612800_2m_lsf_v040201'",
     "output_type": "error",
     "traceback": [
      "\u001b[0;31m---------------------------------------------------------------------------\u001b[0m",
      "\u001b[0;31mFileNotFoundError\u001b[0m                         Traceback (most recent call last)",
      "Input \u001b[0;32mIn [20]\u001b[0m, in \u001b[0;36m<cell line: 1>\u001b[0;34m()\u001b[0m\n\u001b[0;32m----> 1\u001b[0m \u001b[43mdownload_process_icesat2\u001b[49m\u001b[43m(\u001b[49m\u001b[43mstrip_folder\u001b[49m\u001b[43m,\u001b[49m\u001b[43m \u001b[49m\u001b[43mstrip\u001b[49m\u001b[43m,\u001b[49m\u001b[43m \u001b[49m\u001b[43micesat2_path\u001b[49m\u001b[43m)\u001b[49m\n",
      "File \u001b[0;32m~/Github/giuh/scripts/icesat2_download.py:493\u001b[0m, in \u001b[0;36mdownload_process_icesat2\u001b[0;34m(strip_folder, strip, icesat2_path)\u001b[0m\n\u001b[1;32m    486\u001b[0m \u001b[38;5;124;03m''' Main code to ownload IS-2 data by DEM strip\u001b[39;00m\n\u001b[1;32m    487\u001b[0m \u001b[38;5;124;03m    Inputs:\u001b[39;00m\n\u001b[1;32m    488\u001b[0m \u001b[38;5;124;03m    strip_folder: \u001b[39;00m\n\u001b[1;32m    489\u001b[0m \u001b[38;5;124;03micesat2_path: where files will be downloaded and processed; created inside this function\u001b[39;00m\n\u001b[1;32m    490\u001b[0m \u001b[38;5;124;03mUpdate Feb 11, 2020: Now we will just order the files with this function\u001b[39;00m\n\u001b[1;32m    491\u001b[0m \u001b[38;5;124;03m'''\u001b[39;00m\n\u001b[1;32m    492\u001b[0m \u001b[38;5;66;03m# don't download if hdf (one or more already exist) here\u001b[39;00m\n\u001b[0;32m--> 493\u001b[0m files \u001b[38;5;241m=\u001b[39m \u001b[43mos\u001b[49m\u001b[38;5;241;43m.\u001b[39;49m\u001b[43mlistdir\u001b[49m\u001b[43m(\u001b[49m\u001b[43micesat2_path\u001b[49m\u001b[43m)\u001b[49m\n\u001b[1;32m    494\u001b[0m hdf_files \u001b[38;5;241m=\u001b[39m [f \u001b[38;5;28;01mfor\u001b[39;00m f \u001b[38;5;129;01min\u001b[39;00m files \u001b[38;5;28;01mif\u001b[39;00m f\u001b[38;5;241m.\u001b[39mendswith(\u001b[38;5;124m'\u001b[39m\u001b[38;5;124m.h5\u001b[39m\u001b[38;5;124m'\u001b[39m)]\n\u001b[1;32m    495\u001b[0m \u001b[38;5;28;01mif\u001b[39;00m \u001b[38;5;28mlen\u001b[39m(hdf_files) \u001b[38;5;241m>\u001b[39m \u001b[38;5;241m0\u001b[39m:\n",
      "\u001b[0;31mFileNotFoundError\u001b[0m: [Errno 2] No such file or directory: '/fs/project/howat.4/icesat2/ArcticDEM/arcticdem_02_greenland_southeast_ATL06/W3W3_20190602_104001004C0F9500_104001004E612800_2m_lsf_v040201'"
     ]
    }
   ],
   "source": [
    "download_process_icesat2(strip_folder, strip, icesat2_path)"
   ]
  },
  {
   "cell_type": "code",
   "execution_count": null,
   "id": "7d62a27b-dee6-46e9-b548-232b38ac429b",
   "metadata": {},
   "outputs": [],
   "source": [
    "orderdict = download_process_icesat2(strip_folder, strip, icesat2_path)\n",
    "strip_order_dict[strip] = orderdict\n",
    "# time.sleep(1) #To delay another request to server"
   ]
  },
  {
   "cell_type": "code",
   "execution_count": null,
   "id": "520255aa-ee9e-4e27-ab17-50b4ecfad86b",
   "metadata": {},
   "outputs": [],
   "source": [
    "except:\n",
    "    logging.error(f'Strip_Index: {strip_index}  Exception in data download: {region} {strip}')\n",
    "    download_error.append(f'{strip}')\n",
    "#Parsing-----------------------------------------------------\n",
    "# Think if its better to parse separately\n",
    "try:\n",
    "    # Parse HDF file: convert to csv and shapefile/geopackage\n",
    "    if short_name == 'ATL06':\n",
    "        read_atl06(icesat2_path)\n",
    "    if short_name == 'ATL08':\n",
    "        read_atl08(icesat2_path)\n",
    "except:\n",
    "    logging.error(f' Strip_Index: {strip_index}  Exception in processing hdf file: {region} {strip}')\n",
    "    hdf_error.append(f'{strip}')\n",
    "logging.info(f'End for strip_index = {strip_index}\\n')\n",
    "#Parsing----------------------------------------------------------------------------------------------------------------------------------        \n",
    "if len(download_error)>0:\n",
    "    logging.error('The following list contains Download Errors. Diagnose them separately')\n",
    "    logging.info(download_error) #save to list of error strips to diagnose later\n",
    "if len(hdf_error)>0:\n",
    "    logging.error('The following list contains HDF error. Diagnose them separately')\n",
    "    logging.info(hdf_error) #save to list of error strips to diagnose later\n",
    "running_time = toc()\n",
    "logging.info(f'Total Running Time: {running_time}')    \n",
    "# Save the orders returned by the nsidc server as csv file\n",
    "#df = pd.DataFrame.from_dict(strip_order_dict, orient='index')\n",
    "#df.to_csv(f'{base_icesat2_path}/orders.csv')\n",
    "print(f\"Completed: Search and Download icesat for {short_name}\")"
   ]
  }
 ],
 "metadata": {
  "kernelspec": {
   "display_name": "Python 3 (ipykernel)",
   "language": "python",
   "name": "python3"
  },
  "language_info": {
   "codemirror_mode": {
    "name": "ipython",
    "version": 3
   },
   "file_extension": ".py",
   "mimetype": "text/x-python",
   "name": "python",
   "nbconvert_exporter": "python",
   "pygments_lexer": "ipython3",
   "version": "3.9.12"
  }
 },
 "nbformat": 4,
 "nbformat_minor": 5
}
